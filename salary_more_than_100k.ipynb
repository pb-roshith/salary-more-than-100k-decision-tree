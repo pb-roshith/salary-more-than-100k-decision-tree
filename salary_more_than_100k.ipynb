{
  "nbformat": 4,
  "nbformat_minor": 0,
  "metadata": {
    "colab": {
      "provenance": [],
      "authorship_tag": "ABX9TyOMEfXGiZNuStc3pjGqhMgI",
      "include_colab_link": true
    },
    "kernelspec": {
      "name": "python3",
      "display_name": "Python 3"
    },
    "language_info": {
      "name": "python"
    }
  },
  "cells": [
    {
      "cell_type": "markdown",
      "metadata": {
        "id": "view-in-github",
        "colab_type": "text"
      },
      "source": [
        "<a href=\"https://colab.research.google.com/github/pb-roshith/salary-more-than-100k-decision-tree/blob/main/salary_more_than_100k.ipynb\" target=\"_parent\"><img src=\"https://colab.research.google.com/assets/colab-badge.svg\" alt=\"Open In Colab\"/></a>"
      ]
    },
    {
      "cell_type": "code",
      "execution_count": 1,
      "metadata": {
        "id": "kNvzUC_uFAvm"
      },
      "outputs": [],
      "source": [
        "import pandas as pd"
      ]
    },
    {
      "cell_type": "code",
      "source": [
        "df = pd.read_csv(\"salaries.csv\")\n",
        "print(df.head())"
      ],
      "metadata": {
        "colab": {
          "base_uri": "https://localhost:8080/"
        },
        "id": "ehOyjKumGMw4",
        "outputId": "05faa8d8-90c0-433f-e00b-c1163af7af5e"
      },
      "execution_count": 2,
      "outputs": [
        {
          "output_type": "stream",
          "name": "stdout",
          "text": [
            "  company                  job     degree  salary_more_then_100k\n",
            "0  google      sales executive  bachelors                      0\n",
            "1  google      sales executive    masters                      0\n",
            "2  google     business manager  bachelors                      1\n",
            "3  google     business manager    masters                      1\n",
            "4  google  computer programmer  bachelors                      0\n"
          ]
        }
      ]
    },
    {
      "cell_type": "code",
      "source": [
        "inputs = df.drop('salary_more_then_100k',axis='columns')\n",
        "target = df['salary_more_then_100k']"
      ],
      "metadata": {
        "id": "4gnBjwoqGMzF"
      },
      "execution_count": 3,
      "outputs": []
    },
    {
      "cell_type": "code",
      "source": [
        "from sklearn.preprocessing import LabelEncoder\n",
        "\n",
        "from sklearn.model_selection import train_test_split\n",
        "\n",
        "le_company = LabelEncoder()\n",
        "le_job = LabelEncoder()\n",
        "le_degree = LabelEncoder()"
      ],
      "metadata": {
        "id": "ffPKvqbJGM7U"
      },
      "execution_count": 4,
      "outputs": []
    },
    {
      "cell_type": "code",
      "source": [
        "inputs['company_n'] = le_company.fit_transform(inputs['company'])\n",
        "inputs['job_n'] = le_job.fit_transform(inputs['job'])\n",
        "inputs['degree_n'] = le_degree.fit_transform(inputs['degree'])\n",
        "print(inputs)"
      ],
      "metadata": {
        "colab": {
          "base_uri": "https://localhost:8080/"
        },
        "id": "OaDOu89mGM99",
        "outputId": "6081506e-808a-402d-e7fe-21e61a9b09ed"
      },
      "execution_count": 5,
      "outputs": [
        {
          "output_type": "stream",
          "name": "stdout",
          "text": [
            "       company                  job     degree  company_n  job_n  degree_n\n",
            "0       google      sales executive  bachelors          2      2         0\n",
            "1       google      sales executive    masters          2      2         1\n",
            "2       google     business manager  bachelors          2      0         0\n",
            "3       google     business manager    masters          2      0         1\n",
            "4       google  computer programmer  bachelors          2      1         0\n",
            "5       google  computer programmer    masters          2      1         1\n",
            "6   abc pharma      sales executive    masters          0      2         1\n",
            "7   abc pharma  computer programmer  bachelors          0      1         0\n",
            "8   abc pharma     business manager  bachelors          0      0         0\n",
            "9   abc pharma     business manager    masters          0      0         1\n",
            "10    facebook      sales executive  bachelors          1      2         0\n",
            "11    facebook      sales executive    masters          1      2         1\n",
            "12    facebook     business manager  bachelors          1      0         0\n",
            "13    facebook     business manager    masters          1      0         1\n",
            "14    facebook  computer programmer  bachelors          1      1         0\n",
            "15    facebook  computer programmer    masters          1      1         1\n"
          ]
        }
      ]
    },
    {
      "cell_type": "code",
      "source": [
        "inputs_n = inputs.drop(['company','job','degree'],axis='columns')\n",
        "print(inputs_n)"
      ],
      "metadata": {
        "colab": {
          "base_uri": "https://localhost:8080/"
        },
        "id": "vUd3rs9OGM_9",
        "outputId": "7fe5dbdc-c911-4de1-af9f-b116cb41db70"
      },
      "execution_count": 6,
      "outputs": [
        {
          "output_type": "stream",
          "name": "stdout",
          "text": [
            "    company_n  job_n  degree_n\n",
            "0           2      2         0\n",
            "1           2      2         1\n",
            "2           2      0         0\n",
            "3           2      0         1\n",
            "4           2      1         0\n",
            "5           2      1         1\n",
            "6           0      2         1\n",
            "7           0      1         0\n",
            "8           0      0         0\n",
            "9           0      0         1\n",
            "10          1      2         0\n",
            "11          1      2         1\n",
            "12          1      0         0\n",
            "13          1      0         1\n",
            "14          1      1         0\n",
            "15          1      1         1\n"
          ]
        }
      ]
    },
    {
      "cell_type": "code",
      "source": [
        "print(target)"
      ],
      "metadata": {
        "colab": {
          "base_uri": "https://localhost:8080/"
        },
        "id": "Y2_eHNDAGNBd",
        "outputId": "26c40798-6657-4357-a48b-b9b2629b84c5"
      },
      "execution_count": 7,
      "outputs": [
        {
          "output_type": "stream",
          "name": "stdout",
          "text": [
            "0     0\n",
            "1     0\n",
            "2     1\n",
            "3     1\n",
            "4     0\n",
            "5     1\n",
            "6     0\n",
            "7     0\n",
            "8     0\n",
            "9     1\n",
            "10    1\n",
            "11    1\n",
            "12    1\n",
            "13    1\n",
            "14    1\n",
            "15    1\n",
            "Name: salary_more_then_100k, dtype: int64\n"
          ]
        }
      ]
    },
    {
      "cell_type": "code",
      "source": [
        "from sklearn import tree\n",
        "model = tree.DecisionTreeClassifier()"
      ],
      "metadata": {
        "id": "_kVNmHfrGNJX"
      },
      "execution_count": 8,
      "outputs": []
    },
    {
      "cell_type": "code",
      "source": [
        "X_train, X_test, y_train, y_test = train_test_split(inputs_n, target, test_size=0.2, random_state=42)\n",
        "\n",
        "model.fit(X_train, y_train)\n",
        "print(model.score(X_test, y_test))"
      ],
      "metadata": {
        "colab": {
          "base_uri": "https://localhost:8080/"
        },
        "id": "vR1O3XsOGNM8",
        "outputId": "2d847ffb-8072-4fc9-a9e9-d156003dbc30"
      },
      "execution_count": 9,
      "outputs": [
        {
          "output_type": "stream",
          "name": "stdout",
          "text": [
            "0.75\n"
          ]
        }
      ]
    },
    {
      "cell_type": "code",
      "source": [
        "print(model.predict([[2,1,0]]))"
      ],
      "metadata": {
        "colab": {
          "base_uri": "https://localhost:8080/"
        },
        "id": "pwBe2pz0Ghq7",
        "outputId": "30e279d3-3dca-4d92-baf4-1d69dcff19b6"
      },
      "execution_count": 10,
      "outputs": [
        {
          "output_type": "stream",
          "name": "stdout",
          "text": [
            "[0]\n"
          ]
        },
        {
          "output_type": "stream",
          "name": "stderr",
          "text": [
            "/usr/local/lib/python3.10/dist-packages/sklearn/base.py:439: UserWarning: X does not have valid feature names, but DecisionTreeClassifier was fitted with feature names\n",
            "  warnings.warn(\n"
          ]
        }
      ]
    }
  ]
}